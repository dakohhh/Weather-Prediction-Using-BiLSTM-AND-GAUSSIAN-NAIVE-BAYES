{
 "cells": [
  {
   "cell_type": "code",
   "execution_count": 1,
   "id": "d70df9e5-278b-4d2e-91ed-f08b56ac6006",
   "metadata": {},
   "outputs": [],
   "source": [
    "import pandas as pd\n",
    "import numpy as np\n",
    "from sklearn.model_selection import train_test_split\n",
    "from sklearn.preprocessing import StandardScaler"
   ]
  },
  {
   "cell_type": "code",
   "execution_count": 2,
   "id": "c5ec837a-1346-475e-b01b-1ddc00e65d33",
   "metadata": {},
   "outputs": [
    {
     "data": {
      "text/html": [
       "<div>\n",
       "<style scoped>\n",
       "    .dataframe tbody tr th:only-of-type {\n",
       "        vertical-align: middle;\n",
       "    }\n",
       "\n",
       "    .dataframe tbody tr th {\n",
       "        vertical-align: top;\n",
       "    }\n",
       "\n",
       "    .dataframe thead th {\n",
       "        text-align: right;\n",
       "    }\n",
       "</style>\n",
       "<table border=\"1\" class=\"dataframe\">\n",
       "  <thead>\n",
       "    <tr style=\"text-align: right;\">\n",
       "      <th></th>\n",
       "      <th>date</th>\n",
       "      <th>precipitation</th>\n",
       "      <th>temp_max</th>\n",
       "      <th>temp_min</th>\n",
       "      <th>wind</th>\n",
       "      <th>weather</th>\n",
       "    </tr>\n",
       "  </thead>\n",
       "  <tbody>\n",
       "    <tr>\n",
       "      <th>0</th>\n",
       "      <td>2012-01-01</td>\n",
       "      <td>0.0</td>\n",
       "      <td>12.8</td>\n",
       "      <td>5.0</td>\n",
       "      <td>4.7</td>\n",
       "      <td>drizzle</td>\n",
       "    </tr>\n",
       "    <tr>\n",
       "      <th>1</th>\n",
       "      <td>2012-01-02</td>\n",
       "      <td>10.9</td>\n",
       "      <td>10.6</td>\n",
       "      <td>2.8</td>\n",
       "      <td>4.5</td>\n",
       "      <td>rain</td>\n",
       "    </tr>\n",
       "    <tr>\n",
       "      <th>2</th>\n",
       "      <td>2012-01-03</td>\n",
       "      <td>0.8</td>\n",
       "      <td>11.7</td>\n",
       "      <td>7.2</td>\n",
       "      <td>2.3</td>\n",
       "      <td>rain</td>\n",
       "    </tr>\n",
       "    <tr>\n",
       "      <th>3</th>\n",
       "      <td>2012-01-04</td>\n",
       "      <td>20.3</td>\n",
       "      <td>12.2</td>\n",
       "      <td>5.6</td>\n",
       "      <td>4.7</td>\n",
       "      <td>rain</td>\n",
       "    </tr>\n",
       "    <tr>\n",
       "      <th>4</th>\n",
       "      <td>2012-01-05</td>\n",
       "      <td>1.3</td>\n",
       "      <td>8.9</td>\n",
       "      <td>2.8</td>\n",
       "      <td>6.1</td>\n",
       "      <td>rain</td>\n",
       "    </tr>\n",
       "  </tbody>\n",
       "</table>\n",
       "</div>"
      ],
      "text/plain": [
       "         date  precipitation  temp_max  temp_min  wind  weather\n",
       "0  2012-01-01            0.0      12.8       5.0   4.7  drizzle\n",
       "1  2012-01-02           10.9      10.6       2.8   4.5     rain\n",
       "2  2012-01-03            0.8      11.7       7.2   2.3     rain\n",
       "3  2012-01-04           20.3      12.2       5.6   4.7     rain\n",
       "4  2012-01-05            1.3       8.9       2.8   6.1     rain"
      ]
     },
     "execution_count": 2,
     "metadata": {},
     "output_type": "execute_result"
    }
   ],
   "source": [
    "data = pd.read_csv(\"./data/seattle-weather.csv\")\n",
    "\n",
    "\n",
    "data.head()"
   ]
  },
  {
   "cell_type": "markdown",
   "id": "e9fbee2c-dc18-4b63-ad99-b21f8a996af1",
   "metadata": {},
   "source": [
    "### Checking for missing values"
   ]
  },
  {
   "cell_type": "code",
   "execution_count": 3,
   "id": "88d363af-5cd3-4127-9a57-9c7c9dc71ba1",
   "metadata": {},
   "outputs": [
    {
     "data": {
      "text/plain": [
       "date             0\n",
       "precipitation    0\n",
       "temp_max         0\n",
       "temp_min         0\n",
       "wind             0\n",
       "weather          0\n",
       "dtype: int64"
      ]
     },
     "execution_count": 3,
     "metadata": {},
     "output_type": "execute_result"
    }
   ],
   "source": [
    "data.isna().sum()"
   ]
  },
  {
   "cell_type": "code",
   "execution_count": 4,
   "id": "42cb440f-15b1-4241-b7e4-8d4c894a9513",
   "metadata": {},
   "outputs": [],
   "source": [
    "#No missing values in the dataset"
   ]
  },
  {
   "cell_type": "markdown",
   "id": "9666f459-294f-42f9-a7e5-e80aeb136269",
   "metadata": {},
   "source": [
    "### Preprocessing (date)"
   ]
  },
  {
   "cell_type": "code",
   "execution_count": 5,
   "id": "b4c494f9-c984-4324-ad08-4589440b1791",
   "metadata": {},
   "outputs": [],
   "source": [
    "data[\"date\"] = pd.to_datetime(data[\"date\"])"
   ]
  },
  {
   "cell_type": "code",
   "execution_count": 6,
   "id": "ca70f2f5-479d-4933-9b17-c31b2c90586c",
   "metadata": {},
   "outputs": [],
   "source": [
    "data['year'] = data['date'].dt.year\n",
    "data['month'] = data['date'].dt.month\n",
    "data['day'] = data['date'].dt.day\n",
    "data['day_of_week'] = data['date'].dt.dayofweek  # Monday=0, Sunday=6\n",
    "\n",
    "\n",
    "data.drop(\"date\", inplace=True, axis=1)\n"
   ]
  },
  {
   "cell_type": "markdown",
   "id": "564b5580-90b0-4fb3-a8f8-6dcee5e33af7",
   "metadata": {},
   "source": [
    "#### handling cylinical features (months)"
   ]
  },
  {
   "cell_type": "code",
   "execution_count": 7,
   "id": "b34e5f81-6bce-49b8-887c-b602c6130383",
   "metadata": {},
   "outputs": [],
   "source": [
    "data['month_sin'] = np.sin(2 * np.pi * data['month'] / 12)\n",
    "data['month_cos'] = np.cos(2 * np.pi * data['month'] / 12)\n",
    "\n",
    "data.drop(\"month\", inplace=True, axis=1)\n"
   ]
  },
  {
   "cell_type": "markdown",
   "id": "d98eff92-6c79-4f57-a4eb-563e9c7a997c",
   "metadata": {},
   "source": [
    "### now using label encoder to preprocess the output (weather)"
   ]
  },
  {
   "cell_type": "code",
   "execution_count": 8,
   "id": "0b7dcd4a-3cfe-49df-9c30-ddbf3fc691cd",
   "metadata": {},
   "outputs": [
    {
     "data": {
      "text/html": [
       "<div>\n",
       "<style scoped>\n",
       "    .dataframe tbody tr th:only-of-type {\n",
       "        vertical-align: middle;\n",
       "    }\n",
       "\n",
       "    .dataframe tbody tr th {\n",
       "        vertical-align: top;\n",
       "    }\n",
       "\n",
       "    .dataframe thead th {\n",
       "        text-align: right;\n",
       "    }\n",
       "</style>\n",
       "<table border=\"1\" class=\"dataframe\">\n",
       "  <thead>\n",
       "    <tr style=\"text-align: right;\">\n",
       "      <th></th>\n",
       "      <th>precipitation</th>\n",
       "      <th>temp_max</th>\n",
       "      <th>temp_min</th>\n",
       "      <th>wind</th>\n",
       "      <th>weather</th>\n",
       "      <th>year</th>\n",
       "      <th>day</th>\n",
       "      <th>day_of_week</th>\n",
       "      <th>month_sin</th>\n",
       "      <th>month_cos</th>\n",
       "    </tr>\n",
       "  </thead>\n",
       "  <tbody>\n",
       "    <tr>\n",
       "      <th>0</th>\n",
       "      <td>0.0</td>\n",
       "      <td>12.8</td>\n",
       "      <td>5.0</td>\n",
       "      <td>4.7</td>\n",
       "      <td>0</td>\n",
       "      <td>2012</td>\n",
       "      <td>1</td>\n",
       "      <td>6</td>\n",
       "      <td>0.5</td>\n",
       "      <td>0.866025</td>\n",
       "    </tr>\n",
       "    <tr>\n",
       "      <th>1</th>\n",
       "      <td>10.9</td>\n",
       "      <td>10.6</td>\n",
       "      <td>2.8</td>\n",
       "      <td>4.5</td>\n",
       "      <td>2</td>\n",
       "      <td>2012</td>\n",
       "      <td>2</td>\n",
       "      <td>0</td>\n",
       "      <td>0.5</td>\n",
       "      <td>0.866025</td>\n",
       "    </tr>\n",
       "    <tr>\n",
       "      <th>2</th>\n",
       "      <td>0.8</td>\n",
       "      <td>11.7</td>\n",
       "      <td>7.2</td>\n",
       "      <td>2.3</td>\n",
       "      <td>2</td>\n",
       "      <td>2012</td>\n",
       "      <td>3</td>\n",
       "      <td>1</td>\n",
       "      <td>0.5</td>\n",
       "      <td>0.866025</td>\n",
       "    </tr>\n",
       "    <tr>\n",
       "      <th>3</th>\n",
       "      <td>20.3</td>\n",
       "      <td>12.2</td>\n",
       "      <td>5.6</td>\n",
       "      <td>4.7</td>\n",
       "      <td>2</td>\n",
       "      <td>2012</td>\n",
       "      <td>4</td>\n",
       "      <td>2</td>\n",
       "      <td>0.5</td>\n",
       "      <td>0.866025</td>\n",
       "    </tr>\n",
       "    <tr>\n",
       "      <th>4</th>\n",
       "      <td>1.3</td>\n",
       "      <td>8.9</td>\n",
       "      <td>2.8</td>\n",
       "      <td>6.1</td>\n",
       "      <td>2</td>\n",
       "      <td>2012</td>\n",
       "      <td>5</td>\n",
       "      <td>3</td>\n",
       "      <td>0.5</td>\n",
       "      <td>0.866025</td>\n",
       "    </tr>\n",
       "  </tbody>\n",
       "</table>\n",
       "</div>"
      ],
      "text/plain": [
       "   precipitation  temp_max  temp_min  wind  weather  year  day  day_of_week  \\\n",
       "0            0.0      12.8       5.0   4.7        0  2012    1            6   \n",
       "1           10.9      10.6       2.8   4.5        2  2012    2            0   \n",
       "2            0.8      11.7       7.2   2.3        2  2012    3            1   \n",
       "3           20.3      12.2       5.6   4.7        2  2012    4            2   \n",
       "4            1.3       8.9       2.8   6.1        2  2012    5            3   \n",
       "\n",
       "   month_sin  month_cos  \n",
       "0        0.5   0.866025  \n",
       "1        0.5   0.866025  \n",
       "2        0.5   0.866025  \n",
       "3        0.5   0.866025  \n",
       "4        0.5   0.866025  "
      ]
     },
     "execution_count": 8,
     "metadata": {},
     "output_type": "execute_result"
    }
   ],
   "source": [
    "from sklearn.preprocessing import LabelEncoder\n",
    "\n",
    "label_encoder = LabelEncoder()\n",
    "\n",
    "data[\"weather\"] = label_encoder.fit_transform(data[\"weather\"])\n",
    "\n",
    "\n",
    "data.head()"
   ]
  },
  {
   "cell_type": "markdown",
   "id": "f994aca6-7129-4f7a-b590-0c009ebf1e42",
   "metadata": {},
   "source": [
    "#### shifiting \"weather\" column to the last position for easy visuals\""
   ]
  },
  {
   "cell_type": "code",
   "execution_count": 9,
   "id": "198887cb-6c90-4c94-ada8-7b2ce13bd248",
   "metadata": {},
   "outputs": [],
   "source": [
    "column_to_shift = 'weather'\n",
    "columns = data.columns.tolist()\n",
    "columns.remove(column_to_shift)\n",
    "columns.append(column_to_shift)\n",
    "data = data[columns]"
   ]
  },
  {
   "cell_type": "code",
   "execution_count": 10,
   "id": "ffc77628-ba8a-42af-8162-d304805baa39",
   "metadata": {},
   "outputs": [
    {
     "data": {
      "text/html": [
       "<div>\n",
       "<style scoped>\n",
       "    .dataframe tbody tr th:only-of-type {\n",
       "        vertical-align: middle;\n",
       "    }\n",
       "\n",
       "    .dataframe tbody tr th {\n",
       "        vertical-align: top;\n",
       "    }\n",
       "\n",
       "    .dataframe thead th {\n",
       "        text-align: right;\n",
       "    }\n",
       "</style>\n",
       "<table border=\"1\" class=\"dataframe\">\n",
       "  <thead>\n",
       "    <tr style=\"text-align: right;\">\n",
       "      <th></th>\n",
       "      <th>precipitation</th>\n",
       "      <th>temp_max</th>\n",
       "      <th>temp_min</th>\n",
       "      <th>wind</th>\n",
       "      <th>year</th>\n",
       "      <th>day</th>\n",
       "      <th>day_of_week</th>\n",
       "      <th>month_sin</th>\n",
       "      <th>month_cos</th>\n",
       "      <th>weather</th>\n",
       "    </tr>\n",
       "  </thead>\n",
       "  <tbody>\n",
       "    <tr>\n",
       "      <th>0</th>\n",
       "      <td>0.0</td>\n",
       "      <td>12.8</td>\n",
       "      <td>5.0</td>\n",
       "      <td>4.7</td>\n",
       "      <td>2012</td>\n",
       "      <td>1</td>\n",
       "      <td>6</td>\n",
       "      <td>0.5</td>\n",
       "      <td>0.866025</td>\n",
       "      <td>0</td>\n",
       "    </tr>\n",
       "    <tr>\n",
       "      <th>1</th>\n",
       "      <td>10.9</td>\n",
       "      <td>10.6</td>\n",
       "      <td>2.8</td>\n",
       "      <td>4.5</td>\n",
       "      <td>2012</td>\n",
       "      <td>2</td>\n",
       "      <td>0</td>\n",
       "      <td>0.5</td>\n",
       "      <td>0.866025</td>\n",
       "      <td>2</td>\n",
       "    </tr>\n",
       "    <tr>\n",
       "      <th>2</th>\n",
       "      <td>0.8</td>\n",
       "      <td>11.7</td>\n",
       "      <td>7.2</td>\n",
       "      <td>2.3</td>\n",
       "      <td>2012</td>\n",
       "      <td>3</td>\n",
       "      <td>1</td>\n",
       "      <td>0.5</td>\n",
       "      <td>0.866025</td>\n",
       "      <td>2</td>\n",
       "    </tr>\n",
       "    <tr>\n",
       "      <th>3</th>\n",
       "      <td>20.3</td>\n",
       "      <td>12.2</td>\n",
       "      <td>5.6</td>\n",
       "      <td>4.7</td>\n",
       "      <td>2012</td>\n",
       "      <td>4</td>\n",
       "      <td>2</td>\n",
       "      <td>0.5</td>\n",
       "      <td>0.866025</td>\n",
       "      <td>2</td>\n",
       "    </tr>\n",
       "    <tr>\n",
       "      <th>4</th>\n",
       "      <td>1.3</td>\n",
       "      <td>8.9</td>\n",
       "      <td>2.8</td>\n",
       "      <td>6.1</td>\n",
       "      <td>2012</td>\n",
       "      <td>5</td>\n",
       "      <td>3</td>\n",
       "      <td>0.5</td>\n",
       "      <td>0.866025</td>\n",
       "      <td>2</td>\n",
       "    </tr>\n",
       "  </tbody>\n",
       "</table>\n",
       "</div>"
      ],
      "text/plain": [
       "   precipitation  temp_max  temp_min  wind  year  day  day_of_week  month_sin  \\\n",
       "0            0.0      12.8       5.0   4.7  2012    1            6        0.5   \n",
       "1           10.9      10.6       2.8   4.5  2012    2            0        0.5   \n",
       "2            0.8      11.7       7.2   2.3  2012    3            1        0.5   \n",
       "3           20.3      12.2       5.6   4.7  2012    4            2        0.5   \n",
       "4            1.3       8.9       2.8   6.1  2012    5            3        0.5   \n",
       "\n",
       "   month_cos  weather  \n",
       "0   0.866025        0  \n",
       "1   0.866025        2  \n",
       "2   0.866025        2  \n",
       "3   0.866025        2  \n",
       "4   0.866025        2  "
      ]
     },
     "execution_count": 10,
     "metadata": {},
     "output_type": "execute_result"
    }
   ],
   "source": [
    "data.head()"
   ]
  },
  {
   "cell_type": "markdown",
   "id": "19d7dd67-92fa-41bb-b1ca-a7a0a27f4e87",
   "metadata": {},
   "source": [
    "### Finally, scale some of the features"
   ]
  },
  {
   "cell_type": "code",
   "execution_count": 11,
   "id": "60483920-a708-4196-ab7d-3d27afa525ab",
   "metadata": {},
   "outputs": [
    {
     "data": {
      "text/html": [
       "<div>\n",
       "<style scoped>\n",
       "    .dataframe tbody tr th:only-of-type {\n",
       "        vertical-align: middle;\n",
       "    }\n",
       "\n",
       "    .dataframe tbody tr th {\n",
       "        vertical-align: top;\n",
       "    }\n",
       "\n",
       "    .dataframe thead th {\n",
       "        text-align: right;\n",
       "    }\n",
       "</style>\n",
       "<table border=\"1\" class=\"dataframe\">\n",
       "  <thead>\n",
       "    <tr style=\"text-align: right;\">\n",
       "      <th></th>\n",
       "      <th>precipitation</th>\n",
       "      <th>temp_max</th>\n",
       "      <th>temp_min</th>\n",
       "      <th>wind</th>\n",
       "      <th>year</th>\n",
       "      <th>day</th>\n",
       "      <th>day_of_week</th>\n",
       "      <th>month_sin</th>\n",
       "      <th>month_cos</th>\n",
       "      <th>weather</th>\n",
       "    </tr>\n",
       "  </thead>\n",
       "  <tbody>\n",
       "    <tr>\n",
       "      <th>0</th>\n",
       "      <td>-0.453650</td>\n",
       "      <td>-0.495299</td>\n",
       "      <td>-0.644212</td>\n",
       "      <td>1.014980</td>\n",
       "      <td>2012</td>\n",
       "      <td>1</td>\n",
       "      <td>6</td>\n",
       "      <td>0.5</td>\n",
       "      <td>0.866025</td>\n",
       "      <td>0</td>\n",
       "    </tr>\n",
       "    <tr>\n",
       "      <th>1</th>\n",
       "      <td>1.178598</td>\n",
       "      <td>-0.794731</td>\n",
       "      <td>-1.082347</td>\n",
       "      <td>0.875833</td>\n",
       "      <td>2012</td>\n",
       "      <td>2</td>\n",
       "      <td>0</td>\n",
       "      <td>0.5</td>\n",
       "      <td>0.866025</td>\n",
       "      <td>2</td>\n",
       "    </tr>\n",
       "    <tr>\n",
       "      <th>2</th>\n",
       "      <td>-0.333852</td>\n",
       "      <td>-0.645015</td>\n",
       "      <td>-0.206077</td>\n",
       "      <td>-0.654780</td>\n",
       "      <td>2012</td>\n",
       "      <td>3</td>\n",
       "      <td>1</td>\n",
       "      <td>0.5</td>\n",
       "      <td>0.866025</td>\n",
       "      <td>2</td>\n",
       "    </tr>\n",
       "    <tr>\n",
       "      <th>3</th>\n",
       "      <td>2.586224</td>\n",
       "      <td>-0.576962</td>\n",
       "      <td>-0.524720</td>\n",
       "      <td>1.014980</td>\n",
       "      <td>2012</td>\n",
       "      <td>4</td>\n",
       "      <td>2</td>\n",
       "      <td>0.5</td>\n",
       "      <td>0.866025</td>\n",
       "      <td>2</td>\n",
       "    </tr>\n",
       "    <tr>\n",
       "      <th>4</th>\n",
       "      <td>-0.258978</td>\n",
       "      <td>-1.026111</td>\n",
       "      <td>-1.082347</td>\n",
       "      <td>1.989006</td>\n",
       "      <td>2012</td>\n",
       "      <td>5</td>\n",
       "      <td>3</td>\n",
       "      <td>0.5</td>\n",
       "      <td>0.866025</td>\n",
       "      <td>2</td>\n",
       "    </tr>\n",
       "  </tbody>\n",
       "</table>\n",
       "</div>"
      ],
      "text/plain": [
       "   precipitation  temp_max  temp_min      wind  year  day  day_of_week  \\\n",
       "0      -0.453650 -0.495299 -0.644212  1.014980  2012    1            6   \n",
       "1       1.178598 -0.794731 -1.082347  0.875833  2012    2            0   \n",
       "2      -0.333852 -0.645015 -0.206077 -0.654780  2012    3            1   \n",
       "3       2.586224 -0.576962 -0.524720  1.014980  2012    4            2   \n",
       "4      -0.258978 -1.026111 -1.082347  1.989006  2012    5            3   \n",
       "\n",
       "   month_sin  month_cos  weather  \n",
       "0        0.5   0.866025        0  \n",
       "1        0.5   0.866025        2  \n",
       "2        0.5   0.866025        2  \n",
       "3        0.5   0.866025        2  \n",
       "4        0.5   0.866025        2  "
      ]
     },
     "execution_count": 11,
     "metadata": {},
     "output_type": "execute_result"
    }
   ],
   "source": [
    "from sklearn.preprocessing import StandardScaler\n",
    "\n",
    "features = ['precipitation', 'temp_max', 'temp_min', 'wind']\n",
    "\n",
    "scaler = StandardScaler()\n",
    "\n",
    "data[features] = scaler.fit_transform(data[features])\n",
    "\n",
    "data.head()"
   ]
  },
  {
   "cell_type": "markdown",
   "id": "54ff5b20-e267-4aa6-a11c-06a3b1e9b1a5",
   "metadata": {},
   "source": [
    "### SPLITTING THE DATSET"
   ]
  },
  {
   "cell_type": "code",
   "execution_count": 12,
   "id": "06172657-debb-4320-9526-0d1d40284d60",
   "metadata": {},
   "outputs": [],
   "source": [
    "X = data.drop(\"weather\", axis=1)\n",
    "\n",
    "y = data[\"weather\"]\n"
   ]
  },
  {
   "cell_type": "code",
   "execution_count": 13,
   "id": "9ae2a5b1-e3a2-4936-abd6-01892a84cb6d",
   "metadata": {},
   "outputs": [],
   "source": [
    "x_train, x_test, y_train, y_test = train_test_split(X, y, test_size=0.15, random_state=42)"
   ]
  },
  {
   "cell_type": "code",
   "execution_count": 14,
   "id": "11f2d31f-5898-4218-9e00-234499ae58b4",
   "metadata": {},
   "outputs": [
    {
     "name": "stdout",
     "output_type": "stream",
     "text": [
      "(1241, 9)\n",
      "(1241,)\n",
      "(220, 9)\n",
      "(220,)\n"
     ]
    }
   ],
   "source": [
    "print(x_train.shape)\n",
    "print(y_train.shape)\n",
    "print(x_test.shape)\n",
    "print(y_test.shape)"
   ]
  },
  {
   "cell_type": "code",
   "execution_count": 15,
   "id": "95b77e69-ee70-4dcf-bda7-cff6c1bf8651",
   "metadata": {},
   "outputs": [
    {
     "name": "stderr",
     "output_type": "stream",
     "text": [
      "/Users/apple/Documents/campus security system/.venv/lib/python3.9/site-packages/urllib3/__init__.py:34: NotOpenSSLWarning: urllib3 v2 only supports OpenSSL 1.1.1+, currently the 'ssl' module is compiled with 'LibreSSL 2.8.3'. See: https://github.com/urllib3/urllib3/issues/3020\n",
      "  warnings.warn(\n"
     ]
    }
   ],
   "source": [
    "from keras.utils import to_categorical\n",
    "y_train_categorical = to_categorical(y_train, num_classes=5)\n",
    "\n",
    "# Reshape 'x_train' for LSTM input\n",
    "x_train_reshaped = x_train.values.reshape((x_train.shape[0], x_train.shape[1], 1))"
   ]
  },
  {
   "cell_type": "markdown",
   "id": "836ff964-e1e3-41de-a572-7e57c8692a17",
   "metadata": {},
   "source": [
    "### BUild the BiLSTM model"
   ]
  },
  {
   "cell_type": "code",
   "execution_count": 45,
   "id": "b0858726-727b-46fa-a964-ec456062118e",
   "metadata": {},
   "outputs": [],
   "source": [
    "from tensorflow import keras\n",
    "\n",
    "from tensorflow.keras.layers import Bidirectional, LSTM, Dense, Embedding"
   ]
  },
  {
   "cell_type": "code",
   "execution_count": 52,
   "id": "a6870279-da36-4cb9-9474-b72807d252ab",
   "metadata": {},
   "outputs": [],
   "source": [
    "\n",
    "model = keras.models.Sequential()\n",
    "\n",
    "model.add(Bidirectional(LSTM(50, activation='relu'), input_shape=(x_train.shape[1], 1)))\n",
    "model.add(Dense(5, activation='softmax'))  # Adjust the number of units based on your problem\n",
    "\n",
    "model.compile(optimizer='adam', loss='categorical_crossentropy', metrics=['accuracy'])"
   ]
  },
  {
   "cell_type": "code",
   "execution_count": 53,
   "id": "92266a40-c1ee-4f5a-8c95-c01269323cec",
   "metadata": {},
   "outputs": [
    {
     "name": "stdout",
     "output_type": "stream",
     "text": [
      "Epoch 1/18\n",
      "31/31 [==============================] - 1s 13ms/step - loss: 2.9401 - accuracy: 0.4496 - val_loss: 1.1947 - val_accuracy: 0.6305\n",
      "Epoch 2/18\n",
      "31/31 [==============================] - 0s 5ms/step - loss: 1.0990 - accuracy: 0.5081 - val_loss: 1.1281 - val_accuracy: 0.4819\n",
      "Epoch 3/18\n",
      "31/31 [==============================] - 0s 5ms/step - loss: 1.2057 - accuracy: 0.5554 - val_loss: 1.0957 - val_accuracy: 0.4819\n",
      "Epoch 4/18\n",
      "31/31 [==============================] - 0s 5ms/step - loss: 1.0025 - accuracy: 0.6391 - val_loss: 0.9946 - val_accuracy: 0.5984\n",
      "Epoch 5/18\n",
      "31/31 [==============================] - 0s 4ms/step - loss: 0.9476 - accuracy: 0.6714 - val_loss: 0.9485 - val_accuracy: 0.6827\n",
      "Epoch 6/18\n",
      "31/31 [==============================] - 0s 4ms/step - loss: 0.9679 - accuracy: 0.6300 - val_loss: 0.9471 - val_accuracy: 0.6586\n",
      "Epoch 7/18\n",
      "31/31 [==============================] - 0s 4ms/step - loss: 0.9322 - accuracy: 0.6411 - val_loss: 0.9028 - val_accuracy: 0.6627\n",
      "Epoch 8/18\n",
      "31/31 [==============================] - 0s 4ms/step - loss: 1.0025 - accuracy: 0.6835 - val_loss: 1.2224 - val_accuracy: 0.6787\n",
      "Epoch 9/18\n",
      "31/31 [==============================] - 0s 4ms/step - loss: 0.9240 - accuracy: 0.6815 - val_loss: 0.9329 - val_accuracy: 0.6305\n",
      "Epoch 10/18\n",
      "31/31 [==============================] - 0s 4ms/step - loss: 0.8735 - accuracy: 0.6855 - val_loss: 0.8474 - val_accuracy: 0.7269\n",
      "Epoch 11/18\n",
      "31/31 [==============================] - 0s 4ms/step - loss: 0.8465 - accuracy: 0.6895 - val_loss: 0.8427 - val_accuracy: 0.7189\n",
      "Epoch 12/18\n",
      "31/31 [==============================] - 0s 4ms/step - loss: 0.8190 - accuracy: 0.7298 - val_loss: 0.8707 - val_accuracy: 0.6747\n",
      "Epoch 13/18\n",
      "31/31 [==============================] - 0s 4ms/step - loss: 0.7947 - accuracy: 0.7238 - val_loss: 0.8216 - val_accuracy: 0.7470\n",
      "Epoch 14/18\n",
      "31/31 [==============================] - 0s 4ms/step - loss: 1.1365 - accuracy: 0.6089 - val_loss: 1.1181 - val_accuracy: 0.5823\n",
      "Epoch 15/18\n",
      "31/31 [==============================] - 0s 4ms/step - loss: 1.1318 - accuracy: 0.6532 - val_loss: 0.9648 - val_accuracy: 0.5703\n",
      "Epoch 16/18\n",
      "31/31 [==============================] - 0s 4ms/step - loss: 0.8659 - accuracy: 0.7157 - val_loss: 0.8064 - val_accuracy: 0.7108\n",
      "Epoch 17/18\n",
      "31/31 [==============================] - 0s 4ms/step - loss: 0.8351 - accuracy: 0.6764 - val_loss: 0.8256 - val_accuracy: 0.6747\n",
      "Epoch 18/18\n",
      "31/31 [==============================] - 0s 4ms/step - loss: 0.7454 - accuracy: 0.7470 - val_loss: 0.7480 - val_accuracy: 0.7631\n"
     ]
    },
    {
     "data": {
      "text/plain": [
       "<keras.callbacks.History at 0x1337951f0>"
      ]
     },
     "execution_count": 53,
     "metadata": {},
     "output_type": "execute_result"
    }
   ],
   "source": [
    "model.fit(x_train_reshaped, y_train_categorical, epochs=18, batch_size=32, validation_split=0.2)"
   ]
  },
  {
   "cell_type": "code",
   "execution_count": 54,
   "id": "723c33fd-1cee-409d-b587-0764fc429c87",
   "metadata": {},
   "outputs": [
    {
     "name": "stdout",
     "output_type": "stream",
     "text": [
      "7/7 [==============================] - 0s 2ms/step - loss: 0.7440 - accuracy: 0.7727\n",
      "Test Loss: 74.4021, Test Accuracy: 77.2727\n"
     ]
    }
   ],
   "source": [
    "y_test_categorical = to_categorical(y_test, num_classes=5)\n",
    "\n",
    "x_test_reshaped = x_test.values.reshape((x_test.shape[0], x_test.shape[1], 1))\n",
    "\n",
    "\n",
    "loss, accuracy = model.evaluate(x_test_reshaped, y_test_categorical)\n",
    "\n",
    "print(f'Test Loss: {loss * 100:.4f}, Test Accuracy: {accuracy * 100:.4f}')"
   ]
  },
  {
   "cell_type": "markdown",
   "id": "86ebdc4c-b7a7-4857-8fc4-265415a433d1",
   "metadata": {},
   "source": [
    "### Building the GAUSIAN NAIVE BAYES model"
   ]
  },
  {
   "cell_type": "code",
   "execution_count": 55,
   "id": "86d1236a-5961-4136-bb19-68c38f6ed205",
   "metadata": {},
   "outputs": [],
   "source": [
    "from sklearn.naive_bayes import GaussianNB\n",
    "from sklearn.metrics import accuracy_score"
   ]
  },
  {
   "cell_type": "code",
   "execution_count": 56,
   "id": "f8a4d483-ef66-403f-a732-79c1b62aed4a",
   "metadata": {},
   "outputs": [
    {
     "data": {
      "text/html": [
       "<style>#sk-container-id-8 {color: black;}#sk-container-id-8 pre{padding: 0;}#sk-container-id-8 div.sk-toggleable {background-color: white;}#sk-container-id-8 label.sk-toggleable__label {cursor: pointer;display: block;width: 100%;margin-bottom: 0;padding: 0.3em;box-sizing: border-box;text-align: center;}#sk-container-id-8 label.sk-toggleable__label-arrow:before {content: \"▸\";float: left;margin-right: 0.25em;color: #696969;}#sk-container-id-8 label.sk-toggleable__label-arrow:hover:before {color: black;}#sk-container-id-8 div.sk-estimator:hover label.sk-toggleable__label-arrow:before {color: black;}#sk-container-id-8 div.sk-toggleable__content {max-height: 0;max-width: 0;overflow: hidden;text-align: left;background-color: #f0f8ff;}#sk-container-id-8 div.sk-toggleable__content pre {margin: 0.2em;color: black;border-radius: 0.25em;background-color: #f0f8ff;}#sk-container-id-8 input.sk-toggleable__control:checked~div.sk-toggleable__content {max-height: 200px;max-width: 100%;overflow: auto;}#sk-container-id-8 input.sk-toggleable__control:checked~label.sk-toggleable__label-arrow:before {content: \"▾\";}#sk-container-id-8 div.sk-estimator input.sk-toggleable__control:checked~label.sk-toggleable__label {background-color: #d4ebff;}#sk-container-id-8 div.sk-label input.sk-toggleable__control:checked~label.sk-toggleable__label {background-color: #d4ebff;}#sk-container-id-8 input.sk-hidden--visually {border: 0;clip: rect(1px 1px 1px 1px);clip: rect(1px, 1px, 1px, 1px);height: 1px;margin: -1px;overflow: hidden;padding: 0;position: absolute;width: 1px;}#sk-container-id-8 div.sk-estimator {font-family: monospace;background-color: #f0f8ff;border: 1px dotted black;border-radius: 0.25em;box-sizing: border-box;margin-bottom: 0.5em;}#sk-container-id-8 div.sk-estimator:hover {background-color: #d4ebff;}#sk-container-id-8 div.sk-parallel-item::after {content: \"\";width: 100%;border-bottom: 1px solid gray;flex-grow: 1;}#sk-container-id-8 div.sk-label:hover label.sk-toggleable__label {background-color: #d4ebff;}#sk-container-id-8 div.sk-serial::before {content: \"\";position: absolute;border-left: 1px solid gray;box-sizing: border-box;top: 0;bottom: 0;left: 50%;z-index: 0;}#sk-container-id-8 div.sk-serial {display: flex;flex-direction: column;align-items: center;background-color: white;padding-right: 0.2em;padding-left: 0.2em;position: relative;}#sk-container-id-8 div.sk-item {position: relative;z-index: 1;}#sk-container-id-8 div.sk-parallel {display: flex;align-items: stretch;justify-content: center;background-color: white;position: relative;}#sk-container-id-8 div.sk-item::before, #sk-container-id-8 div.sk-parallel-item::before {content: \"\";position: absolute;border-left: 1px solid gray;box-sizing: border-box;top: 0;bottom: 0;left: 50%;z-index: -1;}#sk-container-id-8 div.sk-parallel-item {display: flex;flex-direction: column;z-index: 1;position: relative;background-color: white;}#sk-container-id-8 div.sk-parallel-item:first-child::after {align-self: flex-end;width: 50%;}#sk-container-id-8 div.sk-parallel-item:last-child::after {align-self: flex-start;width: 50%;}#sk-container-id-8 div.sk-parallel-item:only-child::after {width: 0;}#sk-container-id-8 div.sk-dashed-wrapped {border: 1px dashed gray;margin: 0 0.4em 0.5em 0.4em;box-sizing: border-box;padding-bottom: 0.4em;background-color: white;}#sk-container-id-8 div.sk-label label {font-family: monospace;font-weight: bold;display: inline-block;line-height: 1.2em;}#sk-container-id-8 div.sk-label-container {text-align: center;}#sk-container-id-8 div.sk-container {/* jupyter's `normalize.less` sets `[hidden] { display: none; }` but bootstrap.min.css set `[hidden] { display: none !important; }` so we also need the `!important` here to be able to override the default hidden behavior on the sphinx rendered scikit-learn.org. See: https://github.com/scikit-learn/scikit-learn/issues/21755 */display: inline-block !important;position: relative;}#sk-container-id-8 div.sk-text-repr-fallback {display: none;}</style><div id=\"sk-container-id-8\" class=\"sk-top-container\"><div class=\"sk-text-repr-fallback\"><pre>GaussianNB()</pre><b>In a Jupyter environment, please rerun this cell to show the HTML representation or trust the notebook. <br />On GitHub, the HTML representation is unable to render, please try loading this page with nbviewer.org.</b></div><div class=\"sk-container\" hidden><div class=\"sk-item\"><div class=\"sk-estimator sk-toggleable\"><input class=\"sk-toggleable__control sk-hidden--visually\" id=\"sk-estimator-id-10\" type=\"checkbox\" checked><label for=\"sk-estimator-id-10\" class=\"sk-toggleable__label sk-toggleable__label-arrow\">GaussianNB</label><div class=\"sk-toggleable__content\"><pre>GaussianNB()</pre></div></div></div></div></div>"
      ],
      "text/plain": [
       "GaussianNB()"
      ]
     },
     "execution_count": 56,
     "metadata": {},
     "output_type": "execute_result"
    }
   ],
   "source": [
    "gnb_model = GaussianNB()\n",
    "\n",
    "gnb_model.fit(x_train, y_train)"
   ]
  },
  {
   "cell_type": "code",
   "execution_count": 57,
   "id": "084088dd-3ca0-4f9b-b9d7-11c786ac6e8f",
   "metadata": {},
   "outputs": [
    {
     "name": "stdout",
     "output_type": "stream",
     "text": [
      "Accuracy of GAUASIAN NAIVE BAYES: 0.8590909090909091\n"
     ]
    }
   ],
   "source": [
    "y_pred = gnb_model.predict(x_test)\n",
    "\n",
    "accuracy = accuracy_score(y_test, y_pred)\n",
    "\n",
    "print(f'Accuracy of GAUASIAN NAIVE BAYES: {accuracy}')"
   ]
  },
  {
   "cell_type": "markdown",
   "id": "24084bf5-99b8-4a1b-a047-56d75804a93f",
   "metadata": {},
   "source": [
    "### Using GAUSAIN PROCESS REGRESSION FOR HYPERPARAMETER TUNING "
   ]
  },
  {
   "cell_type": "markdown",
   "id": "c36c73be-9d10-4efb-9af6-ddc960f5c373",
   "metadata": {},
   "source": [
    "The bayessian search cv uses the gaussian process regression for hyper parameter tuning of machine learning models"
   ]
  },
  {
   "cell_type": "code",
   "execution_count": 228,
   "id": "ab086c64-3ba2-415b-9b69-314209c02f52",
   "metadata": {},
   "outputs": [
    {
     "name": "stdout",
     "output_type": "stream",
     "text": [
      "Collecting scikit-optimize\n",
      "  Downloading scikit_optimize-0.9.0-py2.py3-none-any.whl (100 kB)\n",
      "\u001b[2K     \u001b[90m━━━━━━━━━━━━━━━━━━━━━━━━━━━━━━━━━━━━━━━\u001b[0m \u001b[32m100.3/100.3 kB\u001b[0m \u001b[31m4.3 kB/s\u001b[0m eta \u001b[36m0:00:00\u001b[0ma \u001b[36m0:00:02\u001b[0m\n",
      "\u001b[?25hRequirement already satisfied: joblib>=0.11 in /Users/apple/Documents/campus security system/.venv/lib/python3.9/site-packages (from scikit-optimize) (1.3.2)\n",
      "Collecting pyaml>=16.9 (from scikit-optimize)\n",
      "  Downloading pyaml-23.12.0-py3-none-any.whl.metadata (11 kB)\n",
      "Requirement already satisfied: numpy>=1.13.3 in /Users/apple/Documents/campus security system/.venv/lib/python3.9/site-packages (from scikit-optimize) (1.26.3)\n",
      "Requirement already satisfied: scipy>=0.19.1 in /Users/apple/Documents/campus security system/.venv/lib/python3.9/site-packages (from scikit-optimize) (1.11.4)\n",
      "Requirement already satisfied: scikit-learn>=0.20.0 in /Users/apple/Documents/campus security system/.venv/lib/python3.9/site-packages (from scikit-optimize) (1.3.2)\n",
      "Requirement already satisfied: PyYAML in /Users/apple/Documents/campus security system/.venv/lib/python3.9/site-packages (from pyaml>=16.9->scikit-optimize) (6.0.1)\n",
      "Requirement already satisfied: threadpoolctl>=2.0.0 in /Users/apple/Documents/campus security system/.venv/lib/python3.9/site-packages (from scikit-learn>=0.20.0->scikit-optimize) (3.2.0)\n",
      "Downloading pyaml-23.12.0-py3-none-any.whl (23 kB)\n",
      "Installing collected packages: pyaml, scikit-optimize\n",
      "Successfully installed pyaml-23.12.0 scikit-optimize-0.9.0\n"
     ]
    }
   ],
   "source": [
    "!pip install scikit-optimize"
   ]
  },
  {
   "cell_type": "code",
   "execution_count": 30,
   "id": "cec58bb2-3ad8-404f-949b-2166ce959a2f",
   "metadata": {},
   "outputs": [
    {
     "name": "stdout",
     "output_type": "stream",
     "text": [
      "Collecting scikeras\n",
      "  Downloading scikeras-0.12.0-py3-none-any.whl.metadata (4.0 kB)\n",
      "Requirement already satisfied: packaging>=0.21 in /Users/apple/Documents/campus security system/.venv/lib/python3.9/site-packages (from scikeras) (23.2)\n",
      "Requirement already satisfied: scikit-learn>=1.0.0 in /Users/apple/Documents/campus security system/.venv/lib/python3.9/site-packages (from scikeras) (1.3.2)\n",
      "Requirement already satisfied: numpy<2.0,>=1.17.3 in /Users/apple/Documents/campus security system/.venv/lib/python3.9/site-packages (from scikit-learn>=1.0.0->scikeras) (1.26.3)\n",
      "Requirement already satisfied: scipy>=1.5.0 in /Users/apple/Documents/campus security system/.venv/lib/python3.9/site-packages (from scikit-learn>=1.0.0->scikeras) (1.11.4)\n",
      "Requirement already satisfied: joblib>=1.1.1 in /Users/apple/Documents/campus security system/.venv/lib/python3.9/site-packages (from scikit-learn>=1.0.0->scikeras) (1.3.2)\n",
      "Requirement already satisfied: threadpoolctl>=2.0.0 in /Users/apple/Documents/campus security system/.venv/lib/python3.9/site-packages (from scikit-learn>=1.0.0->scikeras) (3.2.0)\n",
      "Downloading scikeras-0.12.0-py3-none-any.whl (27 kB)\n",
      "Installing collected packages: scikeras\n",
      "Successfully installed scikeras-0.12.0\n",
      "\n",
      "\u001b[1m[\u001b[0m\u001b[34;49mnotice\u001b[0m\u001b[1;39;49m]\u001b[0m\u001b[39;49m A new release of pip is available: \u001b[0m\u001b[31;49m23.3.1\u001b[0m\u001b[39;49m -> \u001b[0m\u001b[32;49m23.3.2\u001b[0m\n",
      "\u001b[1m[\u001b[0m\u001b[34;49mnotice\u001b[0m\u001b[1;39;49m]\u001b[0m\u001b[39;49m To update, run: \u001b[0m\u001b[32;49mpip install --upgrade pip\u001b[0m\n"
     ]
    }
   ],
   "source": [
    "!pip install scikeras"
   ]
  },
  {
   "cell_type": "markdown",
   "id": "6a3cd59e-3d81-4e48-a3e5-ee6aafd7d5bc",
   "metadata": {},
   "source": [
    "The Sequential model from Keras does not have a 'score' method, which is necessary for the BayesSearchCV(Gaussian Process Regression)  to work. To do this we would need to create a wrapper around our model to allow scoring."
   ]
  },
  {
   "cell_type": "code",
   "execution_count": 62,
   "id": "bad97cd0-25f9-4841-b238-eddda76372a0",
   "metadata": {},
   "outputs": [
    {
     "name": "stderr",
     "output_type": "stream",
     "text": [
      "/Users/apple/Documents/campus security system/.venv/lib/python3.9/site-packages/skopt/optimizer/optimizer.py:449: UserWarning: The objective has been evaluated at this point before.\n",
      "  warnings.warn(\"The objective has been evaluated \"\n",
      "/Users/apple/Documents/campus security system/.venv/lib/python3.9/site-packages/skopt/optimizer/optimizer.py:449: UserWarning: The objective has been evaluated at this point before.\n",
      "  warnings.warn(\"The objective has been evaluated \"\n"
     ]
    },
    {
     "data": {
      "text/html": [
       "<style>#sk-container-id-11 {color: black;}#sk-container-id-11 pre{padding: 0;}#sk-container-id-11 div.sk-toggleable {background-color: white;}#sk-container-id-11 label.sk-toggleable__label {cursor: pointer;display: block;width: 100%;margin-bottom: 0;padding: 0.3em;box-sizing: border-box;text-align: center;}#sk-container-id-11 label.sk-toggleable__label-arrow:before {content: \"▸\";float: left;margin-right: 0.25em;color: #696969;}#sk-container-id-11 label.sk-toggleable__label-arrow:hover:before {color: black;}#sk-container-id-11 div.sk-estimator:hover label.sk-toggleable__label-arrow:before {color: black;}#sk-container-id-11 div.sk-toggleable__content {max-height: 0;max-width: 0;overflow: hidden;text-align: left;background-color: #f0f8ff;}#sk-container-id-11 div.sk-toggleable__content pre {margin: 0.2em;color: black;border-radius: 0.25em;background-color: #f0f8ff;}#sk-container-id-11 input.sk-toggleable__control:checked~div.sk-toggleable__content {max-height: 200px;max-width: 100%;overflow: auto;}#sk-container-id-11 input.sk-toggleable__control:checked~label.sk-toggleable__label-arrow:before {content: \"▾\";}#sk-container-id-11 div.sk-estimator input.sk-toggleable__control:checked~label.sk-toggleable__label {background-color: #d4ebff;}#sk-container-id-11 div.sk-label input.sk-toggleable__control:checked~label.sk-toggleable__label {background-color: #d4ebff;}#sk-container-id-11 input.sk-hidden--visually {border: 0;clip: rect(1px 1px 1px 1px);clip: rect(1px, 1px, 1px, 1px);height: 1px;margin: -1px;overflow: hidden;padding: 0;position: absolute;width: 1px;}#sk-container-id-11 div.sk-estimator {font-family: monospace;background-color: #f0f8ff;border: 1px dotted black;border-radius: 0.25em;box-sizing: border-box;margin-bottom: 0.5em;}#sk-container-id-11 div.sk-estimator:hover {background-color: #d4ebff;}#sk-container-id-11 div.sk-parallel-item::after {content: \"\";width: 100%;border-bottom: 1px solid gray;flex-grow: 1;}#sk-container-id-11 div.sk-label:hover label.sk-toggleable__label {background-color: #d4ebff;}#sk-container-id-11 div.sk-serial::before {content: \"\";position: absolute;border-left: 1px solid gray;box-sizing: border-box;top: 0;bottom: 0;left: 50%;z-index: 0;}#sk-container-id-11 div.sk-serial {display: flex;flex-direction: column;align-items: center;background-color: white;padding-right: 0.2em;padding-left: 0.2em;position: relative;}#sk-container-id-11 div.sk-item {position: relative;z-index: 1;}#sk-container-id-11 div.sk-parallel {display: flex;align-items: stretch;justify-content: center;background-color: white;position: relative;}#sk-container-id-11 div.sk-item::before, #sk-container-id-11 div.sk-parallel-item::before {content: \"\";position: absolute;border-left: 1px solid gray;box-sizing: border-box;top: 0;bottom: 0;left: 50%;z-index: -1;}#sk-container-id-11 div.sk-parallel-item {display: flex;flex-direction: column;z-index: 1;position: relative;background-color: white;}#sk-container-id-11 div.sk-parallel-item:first-child::after {align-self: flex-end;width: 50%;}#sk-container-id-11 div.sk-parallel-item:last-child::after {align-self: flex-start;width: 50%;}#sk-container-id-11 div.sk-parallel-item:only-child::after {width: 0;}#sk-container-id-11 div.sk-dashed-wrapped {border: 1px dashed gray;margin: 0 0.4em 0.5em 0.4em;box-sizing: border-box;padding-bottom: 0.4em;background-color: white;}#sk-container-id-11 div.sk-label label {font-family: monospace;font-weight: bold;display: inline-block;line-height: 1.2em;}#sk-container-id-11 div.sk-label-container {text-align: center;}#sk-container-id-11 div.sk-container {/* jupyter's `normalize.less` sets `[hidden] { display: none; }` but bootstrap.min.css set `[hidden] { display: none !important; }` so we also need the `!important` here to be able to override the default hidden behavior on the sphinx rendered scikit-learn.org. See: https://github.com/scikit-learn/scikit-learn/issues/21755 */display: inline-block !important;position: relative;}#sk-container-id-11 div.sk-text-repr-fallback {display: none;}</style><div id=\"sk-container-id-11\" class=\"sk-top-container\"><div class=\"sk-text-repr-fallback\"><pre>BayesSearchCV(cv=3,\n",
       "              estimator=KerasClassifier(batch_size=32, dropout=0.3, epochs=10, model=&lt;function create_model at 0x133c334c0&gt;, units=60, verbose=0),\n",
       "              n_iter=20,\n",
       "              search_spaces={&#x27;dropout&#x27;: (0.1, 0.5), &#x27;units&#x27;: (50, 60, 100)})</pre><b>In a Jupyter environment, please rerun this cell to show the HTML representation or trust the notebook. <br />On GitHub, the HTML representation is unable to render, please try loading this page with nbviewer.org.</b></div><div class=\"sk-container\" hidden><div class=\"sk-item sk-dashed-wrapped\"><div class=\"sk-label-container\"><div class=\"sk-label sk-toggleable\"><input class=\"sk-toggleable__control sk-hidden--visually\" id=\"sk-estimator-id-15\" type=\"checkbox\" ><label for=\"sk-estimator-id-15\" class=\"sk-toggleable__label sk-toggleable__label-arrow\">BayesSearchCV</label><div class=\"sk-toggleable__content\"><pre>BayesSearchCV(cv=3,\n",
       "              estimator=KerasClassifier(batch_size=32, dropout=0.3, epochs=10, model=&lt;function create_model at 0x133c334c0&gt;, units=60, verbose=0),\n",
       "              n_iter=20,\n",
       "              search_spaces={&#x27;dropout&#x27;: (0.1, 0.5), &#x27;units&#x27;: (50, 60, 100)})</pre></div></div></div><div class=\"sk-parallel\"><div class=\"sk-parallel-item\"><div class=\"sk-item\"><div class=\"sk-label-container\"><div class=\"sk-label sk-toggleable\"><input class=\"sk-toggleable__control sk-hidden--visually\" id=\"sk-estimator-id-16\" type=\"checkbox\" ><label for=\"sk-estimator-id-16\" class=\"sk-toggleable__label sk-toggleable__label-arrow\">estimator: KerasClassifier</label><div class=\"sk-toggleable__content\"><pre>KerasClassifier(\n",
       "\tmodel=&lt;function create_model at 0x133c334c0&gt;\n",
       "\tbuild_fn=None\n",
       "\twarm_start=False\n",
       "\trandom_state=None\n",
       "\toptimizer=rmsprop\n",
       "\tloss=None\n",
       "\tmetrics=None\n",
       "\tbatch_size=32\n",
       "\tvalidation_batch_size=None\n",
       "\tverbose=0\n",
       "\tcallbacks=None\n",
       "\tvalidation_split=0.0\n",
       "\tshuffle=True\n",
       "\trun_eagerly=False\n",
       "\tepochs=10\n",
       "\tunits=60\n",
       "\tdropout=0.3\n",
       "\tclass_weight=None\n",
       ")</pre></div></div></div><div class=\"sk-serial\"><div class=\"sk-item\"><div class=\"sk-estimator sk-toggleable\"><input class=\"sk-toggleable__control sk-hidden--visually\" id=\"sk-estimator-id-17\" type=\"checkbox\" ><label for=\"sk-estimator-id-17\" class=\"sk-toggleable__label sk-toggleable__label-arrow\">KerasClassifier</label><div class=\"sk-toggleable__content\"><pre>KerasClassifier(\n",
       "\tmodel=&lt;function create_model at 0x133c334c0&gt;\n",
       "\tbuild_fn=None\n",
       "\twarm_start=False\n",
       "\trandom_state=None\n",
       "\toptimizer=rmsprop\n",
       "\tloss=None\n",
       "\tmetrics=None\n",
       "\tbatch_size=32\n",
       "\tvalidation_batch_size=None\n",
       "\tverbose=0\n",
       "\tcallbacks=None\n",
       "\tvalidation_split=0.0\n",
       "\tshuffle=True\n",
       "\trun_eagerly=False\n",
       "\tepochs=10\n",
       "\tunits=60\n",
       "\tdropout=0.3\n",
       "\tclass_weight=None\n",
       ")</pre></div></div></div></div></div></div></div></div></div></div>"
      ],
      "text/plain": [
       "BayesSearchCV(cv=3,\n",
       "              estimator=KerasClassifier(batch_size=32, dropout=0.3, epochs=10, model=<function create_model at 0x133c334c0>, units=60, verbose=0),\n",
       "              n_iter=20,\n",
       "              search_spaces={'dropout': (0.1, 0.5), 'units': (50, 60, 100)})"
      ]
     },
     "execution_count": 62,
     "metadata": {},
     "output_type": "execute_result"
    }
   ],
   "source": [
    "\n",
    "from scikeras.wrappers import KerasClassifier\n",
    "from keras.models import Sequential\n",
    "from keras.layers import Bidirectional, LSTM, Dense\n",
    "from skopt import BayesSearchCV\n",
    "from sklearn.model_selection import train_test_split\n",
    "from sklearn.preprocessing import LabelBinarizer\n",
    "\n",
    "\n",
    "def create_model(units, dropout):\n",
    "    model = Sequential()\n",
    "    model.add(Bidirectional(LSTM(units, activation='relu'), input_shape=(9, 1)))\n",
    "    model.add(Dense(5, activation='softmax'))\n",
    "    model.compile(optimizer='adam', loss='categorical_crossentropy', metrics=['accuracy'])\n",
    "    return model\n",
    "\n",
    "\n",
    "# Wrap the Keras model with KerasClassifier\n",
    "keras_model = KerasClassifier(model=create_model, epochs=10, batch_size=32, verbose=0, units =60,  dropout=0.3)\n",
    "\n",
    "# Cast the hyperparameters to integers\n",
    "param_space = {'units': (50, 60, 100),\n",
    "               'dropout': (0.1, 0.5)}\n",
    "\n",
    "\n",
    "# Perform Bayesian Optimization\n",
    "optimizer = BayesSearchCV(keras_model, param_space, n_iter=20, cv=3)\n",
    "optimizer.fit(x_train_reshaped, y_train_categorical)\n",
    "\n",
    "\n"
   ]
  },
  {
   "cell_type": "code",
   "execution_count": 59,
   "id": "b6a4d829-4f87-4e58-b464-8767a91c6d5a",
   "metadata": {},
   "outputs": [
    {
     "name": "stdout",
     "output_type": "stream",
     "text": [
      "OrderedDict([('dropout', 0.4006260356985686), ('units', 100)])\n",
      "KerasClassifier(\n",
      "\tmodel=<function create_model at 0x133aafaf0>\n",
      "\tbuild_fn=None\n",
      "\twarm_start=False\n",
      "\trandom_state=None\n",
      "\toptimizer=rmsprop\n",
      "\tloss=None\n",
      "\tmetrics=None\n",
      "\tbatch_size=32\n",
      "\tvalidation_batch_size=None\n",
      "\tverbose=0\n",
      "\tcallbacks=None\n",
      "\tvalidation_split=0.0\n",
      "\tshuffle=True\n",
      "\trun_eagerly=False\n",
      "\tepochs=10\n",
      "\tunits=100\n",
      "\tdropout=0.4006260356985686\n",
      "\tclass_weight=None\n",
      ")\n"
     ]
    }
   ],
   "source": [
    "best_hyperparameters = optimizer.best_params_\n",
    "\n",
    "# Access the best model\n",
    "best_model = optimizer.best_estimator_\n",
    "\n",
    "print(best_hyperparameters)\n",
    "print(best_model)"
   ]
  },
  {
   "cell_type": "code",
   "execution_count": 61,
   "id": "daf78ba7-befd-4580-997c-02b1f68715d7",
   "metadata": {},
   "outputs": [
    {
     "name": "stdout",
     "output_type": "stream",
     "text": [
      "Test Accuracy: 77.2727\n"
     ]
    }
   ],
   "source": [
    "predictions = hyper_tuned_bilstm.predict(x_test_reshaped)\n",
    "\n",
    "# If predictions are class probabilities, convert them to class labels\n",
    "predicted_labels = np.argmax(predictions, axis=1)\n",
    "\n",
    "# Assuming y_test_categorical contains the true labels\n",
    "accuracy = accuracy_score(np.argmax(y_test_categorical, axis=1), predicted_labels)\n",
    "\n",
    "print(f'Test Accuracy: {accuracy * 100:.4f}')"
   ]
  },
  {
   "cell_type": "markdown",
   "id": "8a86fb5a-2de1-42f2-9893-30c0ca8ad813",
   "metadata": {},
   "source": [
    "### Using GAUSAIN PROCESS REGRESSION FOR HYPERPARAMETER TUNING"
   ]
  },
  {
   "cell_type": "code",
   "execution_count": 66,
   "id": "c4a0665f-8270-4f28-88de-88b48db449d9",
   "metadata": {},
   "outputs": [
    {
     "name": "stderr",
     "output_type": "stream",
     "text": [
      "/Users/apple/Documents/campus security system/.venv/lib/python3.9/site-packages/skopt/optimizer/optimizer.py:449: UserWarning: The objective has been evaluated at this point before.\n",
      "  warnings.warn(\"The objective has been evaluated \"\n",
      "/Users/apple/Documents/campus security system/.venv/lib/python3.9/site-packages/skopt/optimizer/optimizer.py:449: UserWarning: The objective has been evaluated at this point before.\n",
      "  warnings.warn(\"The objective has been evaluated \"\n",
      "/Users/apple/Documents/campus security system/.venv/lib/python3.9/site-packages/skopt/optimizer/optimizer.py:449: UserWarning: The objective has been evaluated at this point before.\n",
      "  warnings.warn(\"The objective has been evaluated \"\n",
      "/Users/apple/Documents/campus security system/.venv/lib/python3.9/site-packages/skopt/optimizer/optimizer.py:449: UserWarning: The objective has been evaluated at this point before.\n",
      "  warnings.warn(\"The objective has been evaluated \"\n"
     ]
    },
    {
     "name": "stdout",
     "output_type": "stream",
     "text": [
      "Best Hyperparameters: OrderedDict([('var_smoothing', 1.6124728751727817e-09)])\n"
     ]
    }
   ],
   "source": [
    "param_space = {'var_smoothing': (1e-9, 1e-5)}\n",
    "\n",
    "\n",
    "nb_classifier = GaussianNB()\n",
    "\n",
    "optimizer = BayesSearchCV(nb_classifier, param_space, n_iter=20, cv=3)\n",
    "optimizer.fit(x_train, y_train)\n",
    "\n",
    "best_hyperparameters = optimizer.best_params_\n",
    "print(\"Best Hyperparameters:\", best_hyperparameters)\n",
    "\n"
   ]
  },
  {
   "cell_type": "code",
   "execution_count": 67,
   "id": "7e41936f-b83f-43f1-92c5-f21025994928",
   "metadata": {},
   "outputs": [
    {
     "name": "stdout",
     "output_type": "stream",
     "text": [
      "Test Accuracy: 85.9091\n"
     ]
    }
   ],
   "source": [
    "accuracy = optimizer.score(x_test, y_test)\n",
    "print(f'Test Accuracy: {accuracy * 100:.4f}')"
   ]
  },
  {
   "cell_type": "code",
   "execution_count": null,
   "id": "4e3a92f0-0dab-4bed-b9c8-3be5d226d7aa",
   "metadata": {},
   "outputs": [],
   "source": []
  }
 ],
 "metadata": {
  "kernelspec": {
   "display_name": "Python 3 (ipykernel)",
   "language": "python",
   "name": "python3"
  },
  "language_info": {
   "codemirror_mode": {
    "name": "ipython",
    "version": 3
   },
   "file_extension": ".py",
   "mimetype": "text/x-python",
   "name": "python",
   "nbconvert_exporter": "python",
   "pygments_lexer": "ipython3",
   "version": "3.9.6"
  }
 },
 "nbformat": 4,
 "nbformat_minor": 5
}
